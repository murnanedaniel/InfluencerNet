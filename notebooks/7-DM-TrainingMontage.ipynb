{
 "cells": [
  {
   "cell_type": "markdown",
   "metadata": {},
   "source": [
    "# Testing Influencer GNN"
   ]
  },
  {
   "cell_type": "code",
   "execution_count": 1,
   "metadata": {},
   "outputs": [
    {
     "name": "stderr",
     "output_type": "stream",
     "text": [
      "/global/homes/d/danieltm/.conda/envs/gnn4itk-test/lib/python3.9/site-packages/tqdm/auto.py:22: TqdmWarning: IProgress not found. Please update jupyter and ipywidgets. See https://ipywidgets.readthedocs.io/en/stable/user_install.html\n",
      "  from .autonotebook import tqdm as notebook_tqdm\n"
     ]
    }
   ],
   "source": [
    "%load_ext autoreload\n",
    "%autoreload 2\n",
    "\n",
    "# System imports\n",
    "import os\n",
    "import sys\n",
    "import yaml\n",
    "\n",
    "# External imports\n",
    "import matplotlib.pyplot as plt\n",
    "import torch\n",
    "from pytorch_lightning import Trainer\n",
    "from pytorch_lightning.loggers import WandbLogger\n",
    "from torch_geometric.data import Batch\n",
    "from tqdm import tqdm\n",
    "\n",
    "import warnings\n",
    "\n",
    "warnings.filterwarnings(\"ignore\")\n",
    "sys.path.append(\"../\")\n",
    "device = \"cuda\" if torch.cuda.is_available() else \"cpu\"\n",
    "\n",
    "from lightning_modules.toyGNN.submodels.influencer_gravnet import InfluencerGravnet\n"
   ]
  },
  {
   "attachments": {},
   "cell_type": "markdown",
   "metadata": {
    "tags": []
   },
   "source": [
    "## Download Images"
   ]
  },
  {
   "cell_type": "code",
   "execution_count": 2,
   "metadata": {},
   "outputs": [],
   "source": [
    "import wandb\n",
    "import plotly.graph_objects as go\n",
    "import PIL\n",
    "import io"
   ]
  },
  {
   "cell_type": "code",
   "execution_count": 3,
   "metadata": {},
   "outputs": [],
   "source": [
    "# Use wandb api to pull files\n",
    "api = wandb.Api()"
   ]
  },
  {
   "cell_type": "code",
   "execution_count": 4,
   "metadata": {},
   "outputs": [],
   "source": [
    "# Load config file\n",
    "with open(\"montage_config.yaml\") as f:\n",
    "    config = yaml.load(f, Loader=yaml.FullLoader)"
   ]
  },
  {
   "cell_type": "code",
   "execution_count": 5,
   "metadata": {},
   "outputs": [],
   "source": [
    "# Download the files for a given run\n",
    "root_dir = \"/global/cfs/cdirs/m3443/usr/dtmurnane/InfluencerNet\"\n",
    "run = api.run(f\"murnanedaniel/{config['project']}/{config['run']}\")\n",
    "files = run.files()"
   ]
  },
  {
   "cell_type": "code",
   "execution_count": 6,
   "metadata": {},
   "outputs": [],
   "source": [
    "# Get all files with title containing \"original_space\"\n",
    "original_space_files = [file for file in files if \"original_space\" in file.name]\n",
    "original_space_files = sorted(original_space_files, key=lambda x: int(x.name.split(\"_\")[2]))\n",
    "\n",
    "# Get all files with title containing \"embeddings\"\n",
    "embedding_files = [file for file in files if \"embeddings\" in file.name]\n",
    "embedding_files = sorted(embedding_files, key=lambda x: int(x.name.split(\"_\")[1]))"
   ]
  },
  {
   "cell_type": "code",
   "execution_count": 7,
   "metadata": {},
   "outputs": [
    {
     "name": "stderr",
     "output_type": "stream",
     "text": [
      "100%|██████████| 30/30 [00:09<00:00,  3.22it/s]\n",
      "100%|██████████| 30/30 [00:13<00:00,  2.27it/s]\n"
     ]
    }
   ],
   "source": [
    "for file in tqdm(original_space_files):\n",
    "    file.download(replace=True, root=f\"{root_dir}/{config['run']}\")\n",
    "\n",
    "for file in tqdm(embedding_files):\n",
    "    file.download(replace=True, root=f\"{root_dir}/{config['run']}\")"
   ]
  },
  {
   "cell_type": "code",
   "execution_count": 8,
   "metadata": {},
   "outputs": [
    {
     "name": "stderr",
     "output_type": "stream",
     "text": [
      "100%|██████████| 30/30 [00:10<00:00,  2.88it/s]\n",
      "100%|██████████| 30/30 [04:22<00:00,  8.75s/it]\n"
     ]
    }
   ],
   "source": [
    "original_space_frames = []\n",
    "for file in tqdm(original_space_files):\n",
    "    with open(f\"{root_dir}/{config['run']}/{file.name}\") as f:\n",
    "        data = yaml.load(f, Loader=yaml.FullLoader)\n",
    "        fig = go.Figure(data=data)\n",
    "        original_space_frames.append(PIL.Image.open(io.BytesIO(fig.to_image(format=\"png\"))))\n",
    "\n",
    "embedding_frames = []\n",
    "for file in tqdm(embedding_files):\n",
    "    with open(f\"{root_dir}/{config['run']}/{file.name}\") as f:\n",
    "        data = yaml.load(f, Loader=yaml.FullLoader)\n",
    "        fig = go.Figure(data=data)\n",
    "        embedding_frames.append(PIL.Image.open(io.BytesIO(fig.to_image(format=\"png\"))))"
   ]
  },
  {
   "cell_type": "code",
   "execution_count": 9,
   "metadata": {},
   "outputs": [],
   "source": [
    "original_space_frames[0].save(\n",
    "        f\"original_space_{config['run']}.gif\",\n",
    "        save_all=True,\n",
    "        append_images=original_space_frames[1:],\n",
    "        optimize=True,\n",
    "        duration=400,\n",
    "    )\n",
    "\n",
    "embedding_frames[0].save(\n",
    "        f\"embedding_{config['run']}.gif\",\n",
    "        save_all=True,\n",
    "        append_images=embedding_frames[1:],\n",
    "        optimize=True,\n",
    "        duration=400,\n",
    "    )"
   ]
  },
  {
   "cell_type": "code",
   "execution_count": null,
   "metadata": {},
   "outputs": [],
   "source": []
  }
 ],
 "metadata": {
  "@webio": {
   "lastCommId": null,
   "lastKernelId": null
  },
  "kernelspec": {
   "display_name": "gnn4itk-test",
   "language": "python",
   "name": "python3"
  },
  "language_info": {
   "codemirror_mode": {
    "name": "ipython",
    "version": 3
   },
   "file_extension": ".py",
   "mimetype": "text/x-python",
   "name": "python",
   "nbconvert_exporter": "python",
   "pygments_lexer": "ipython3",
   "version": "3.9.15"
  },
  "vscode": {
   "interpreter": {
    "hash": "243c89a7c53e49f13b0f6736787f7179bec4f0611d3195520f29d03822994e25"
   }
  }
 },
 "nbformat": 4,
 "nbformat_minor": 4
}
